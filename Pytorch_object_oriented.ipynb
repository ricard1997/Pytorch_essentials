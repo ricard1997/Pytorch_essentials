{
  "nbformat": 4,
  "nbformat_minor": 0,
  "metadata": {
    "colab": {
      "provenance": []
    },
    "kernelspec": {
      "name": "python3",
      "display_name": "Python 3"
    },
    "language_info": {
      "name": "python"
    }
  },
  "cells": [
    {
      "cell_type": "markdown",
      "source": [
        "# **Use of Dataset and DataLoader for pytorch**\n",
        "\n",
        "Usually the datasets are too big to train a model with the full amount of data, thus it is better to train the model in batches. Here, Dataset and DataLoader help us providing the batches for training. \n",
        "\n",
        "## **Dataset** \n",
        "\n",
        "The dataset class allows to quickly access the data we want. For instance, if we have the following data: [[1,2,3], [2,5,7], [2,3,4]] with its labels [[1],[2],[3]], and we use the Dataset class, we would be able to access the data by passing and index. Thus, given the index 1 we will access [2,5,7] and the label [2].\n",
        "\n",
        "Lets see ho to create this class"
      ],
      "metadata": {
        "id": "VNdHPHVDyWhw"
      }
    },
    {
      "cell_type": "code",
      "execution_count": 1,
      "metadata": {
        "colab": {
          "base_uri": "https://localhost:8080/"
        },
        "id": "ORc9NzhkyV5h",
        "outputId": "015e5427-73ab-4b27-cf01-fba400ba35ac"
      },
      "outputs": [
        {
          "output_type": "stream",
          "name": "stdout",
          "text": [
            "(tensor([2, 5, 7]), tensor([2]))\n",
            "3\n"
          ]
        }
      ],
      "source": [
        "import torch\n",
        "from torch.utils.data import Dataset\n",
        "\n",
        "class MyDataset(Dataset): # Geenrating the class Dataset\n",
        "  def __init__(self, features, labels): # This dataset has as input the features and the labels\n",
        "    self.data = features\n",
        "    self.labels = labels\n",
        "  def __getitem__(self, index): # This part will return the data depending on the index\n",
        "    return self.data[index], self.labels[index]\n",
        "  def __len__(self): # This part will return the amount of samples\n",
        "    return len(self.data)\n",
        "\n",
        "\n",
        "\n",
        "##### Testing the class #######\n",
        "\n",
        "\n",
        "features = torch.tensor([[1,2,3], [2,5,7], [2,3,4]])\n",
        "labels = torch.tensor([[1],[2],[3]])\n",
        "\n",
        "dataset = MyDataset(features, labels)\n",
        "print(dataset[1])\n",
        "print(len(dataset))\n",
        "\n"
      ]
    },
    {
      "cell_type": "markdown",
      "source": [
        "## **Dataloader** \n",
        "\n",
        "Now, with the easy accsses that Dataset gives to the data, Dataloader helps us to quickly get batches to trains the model.\n",
        "\n",
        "This batches are small quantity of data, for example, a batch of 100 samples would be 10 samples.\n",
        "\n",
        "Let's see how it works:\n",
        "First we will create more data and load it to a dataset"
      ],
      "metadata": {
        "id": "1HbE0AhC2Iq7"
      }
    },
    {
      "cell_type": "code",
      "source": [
        "import torch\n",
        "from torch.utils.data import Dataset\n",
        "\n",
        "class MyDataset(Dataset): # Geenrating the class Dataset\n",
        "  def __init__(self, features, labels): # This dataset has as input the features and the labels\n",
        "    self.data = features\n",
        "    self.labels = labels\n",
        "  def __getitem__(self, index): # This part will return the data depending on the index\n",
        "    return self.data[index], self.labels[index]\n",
        "  def __len__(self): # This part will return the amount of samples\n",
        "    return len(self.data)\n",
        "\n",
        "\n",
        "\n",
        "##### Testing the class #######\n",
        "\n",
        "\n",
        "features = torch.randn(100,3)\n",
        "labels = torch.randint(1,10,(100,1))\n",
        "\n",
        "\n",
        "dataset = MyDataset(features, labels)\n",
        "print(dataset[5])\n",
        "print(len(dataset))"
      ],
      "metadata": {
        "colab": {
          "base_uri": "https://localhost:8080/"
        },
        "id": "7XJz1YEU34Kx",
        "outputId": "e330ef2f-13b7-417b-bdfd-be7fa69ecb93"
      },
      "execution_count": 2,
      "outputs": [
        {
          "output_type": "stream",
          "name": "stdout",
          "text": [
            "(tensor([ 1.0051, -0.6841,  0.3483]), tensor([6]))\n",
            "100\n"
          ]
        }
      ]
    },
    {
      "cell_type": "code",
      "source": [
        "from torch.utils.data import DataLoader\n",
        "\n",
        "dataload = DataLoader(dataset, batch_size=10, shuffle=True) # generates de dataloader\n",
        "\n",
        "for i, (x, y) in enumerate(dataload): # print the batch #2\n",
        "  if i == 2:\n",
        "    print(x,y)"
      ],
      "metadata": {
        "colab": {
          "base_uri": "https://localhost:8080/"
        },
        "id": "UmD4KHku1cRi",
        "outputId": "bf28dde3-81bb-4545-a2ca-9c17c149f27e"
      },
      "execution_count": 5,
      "outputs": [
        {
          "output_type": "stream",
          "name": "stdout",
          "text": [
            "tensor([[-0.1817,  0.0082,  1.1164],\n",
            "        [-0.3672,  1.4349,  0.0261],\n",
            "        [ 0.0618,  0.1141,  0.6496],\n",
            "        [-1.3188,  0.4026,  0.5779],\n",
            "        [ 0.6742, -1.6176,  1.0395],\n",
            "        [-0.2378, -1.7602,  0.3667],\n",
            "        [ 0.7369,  0.8445, -0.5811],\n",
            "        [ 0.0677, -0.1857,  0.4301],\n",
            "        [ 0.4743,  0.1164, -0.0805],\n",
            "        [ 0.1215,  1.1100, -1.0341]]) tensor([[9],\n",
            "        [3],\n",
            "        [5],\n",
            "        [2],\n",
            "        [9],\n",
            "        [3],\n",
            "        [4],\n",
            "        [6],\n",
            "        [4],\n",
            "        [7]])\n"
          ]
        }
      ]
    },
    {
      "cell_type": "markdown",
      "source": [
        "## **Using in a ML model**\n",
        "\n",
        "Lets use our recently learned Dataloader to train a network. Let's work with one of our first attemps, the linear regression.\n",
        "\n"
      ],
      "metadata": {
        "id": "NqKyzF2j1Fyl"
      }
    },
    {
      "cell_type": "code",
      "source": [
        "# Generating linear data\n",
        "\n",
        "# First we will generate and plot linear data\n",
        "import numpy as np\n",
        "import matplotlib.pyplot as plt\n",
        "\n",
        "x = np.linspace(0,10,500)\n",
        "print(x.shape)\n",
        "y = x * 0\n",
        "for i in range(len(x)):\n",
        "  rand = np.random.rand()\n",
        "  rand = rand - .5\n",
        "  y[i] = 2*x[i] + rand\n",
        "\n",
        "\n",
        "plt.scatter(x,y)"
      ],
      "metadata": {
        "colab": {
          "base_uri": "https://localhost:8080/",
          "height": 300
        },
        "id": "-O500xK65J_D",
        "outputId": "49545b32-a7fe-462e-f58d-49de4e19a48b"
      },
      "execution_count": 32,
      "outputs": [
        {
          "output_type": "stream",
          "name": "stdout",
          "text": [
            "(500,)\n"
          ]
        },
        {
          "output_type": "execute_result",
          "data": {
            "text/plain": [
              "<matplotlib.collections.PathCollection at 0x7f998bd8df70>"
            ]
          },
          "metadata": {},
          "execution_count": 32
        },
        {
          "output_type": "display_data",
          "data": {
            "text/plain": [
              "<Figure size 432x288 with 1 Axes>"
            ],
            "image/png": "[encoded data removed]"
          },
          "metadata": {
            "needs_background": "light"
          }
        }
      ]
    },
    {
      "cell_type": "code",
      "source": [
        "# Data manipulation\n",
        "#### for x ####\n",
        "print(x.shape)\n",
        "x = np.array([x])\n",
        "x = x.T\n",
        "\n",
        "features = torch.tensor(x, dtype = float)\n",
        "\n",
        "#### for y ####\n",
        "\n",
        "y = np.array([y])\n",
        "y = y.T\n",
        "labels = torch.tensor(y, dtype = float)\n",
        "print(features.shape, labels.shape)"
      ],
      "metadata": {
        "colab": {
          "base_uri": "https://localhost:8080/"
        },
        "id": "td_GoI4S2MLU",
        "outputId": "fcff1850-5587-4c34-d7b1-1f79a243558e"
      },
      "execution_count": 33,
      "outputs": [
        {
          "output_type": "stream",
          "name": "stdout",
          "text": [
            "(500,)\n",
            "torch.Size([500, 1]) torch.Size([500, 1])\n"
          ]
        }
      ]
    },
    {
      "cell_type": "markdown",
      "source": [
        "Its time to feed our data to the dataloader"
      ],
      "metadata": {
        "id": "47loxnPt4Nx5"
      }
    },
    {
      "cell_type": "code",
      "source": [
        "class Linearset(Dataset):\n",
        "  def __init__(self, features, labels):\n",
        "    self.data = features\n",
        "    self.labels = labels\n",
        "  def __getitem__(self, index):\n",
        "    return self.data[index], self.labels[index]\n",
        "  def __len__(self):\n",
        "    return len(self.data)\n",
        "\n",
        "\n",
        "dataloader = DataLoader(Linearset(features, labels), batch_size=50, shuffle=True )\n",
        "\n",
        "\n",
        "#### Create the model ####\n",
        "input_dim = 1\n",
        "output_dim = 1\n",
        "learning_rate = 0.01\n",
        "model = torch.nn.Linear(input_dim, output_dim, dtype = float)\n",
        "loss = torch.nn.MSELoss()\n",
        "optimizer = torch.optim.SGD(model.parameters(), lr = learning_rate)\n",
        "\n",
        "### Running the model ###\n",
        "\n",
        "n_epochs = 1000\n",
        "\n",
        "for epoch in range(n_epochs):\n",
        "  for i, (feat, label) in enumerate(dataloader):\n",
        "    y_predicted = model(feat)\n",
        "    J = loss(y_predicted, label)\n",
        "    J.backward()\n",
        "    optimizer.step()\n",
        "    optimizer.zero_grad()\n",
        "w, b = model.parameters()\n",
        "\n",
        "print(w,b)\n",
        "\n",
        "\n",
        "#### Print the model ###\n",
        "x_model = np.linspace(0,10,100)\n",
        "y_model = w.item() * x_model\n",
        "plt.scatter(x,y)\n",
        "plt.plot(x_model,y_model, color = 'red')"
      ],
      "metadata": {
        "colab": {
          "base_uri": "https://localhost:8080/",
          "height": 334
        },
        "id": "y2WWUC-J23t3",
        "outputId": "d1766011-a89e-451c-8498-20d38e4fa294"
      },
      "execution_count": 37,
      "outputs": [
        {
          "output_type": "stream",
          "name": "stdout",
          "text": [
            "Parameter containing:\n",
            "tensor([[2.0078]], dtype=torch.float64, requires_grad=True) Parameter containing:\n",
            "tensor([-0.0210], dtype=torch.float64, requires_grad=True)\n"
          ]
        },
        {
          "output_type": "execute_result",
          "data": {
            "text/plain": [
              "[<matplotlib.lines.Line2D at 0x7f998bbf99d0>]"
            ]
          },
          "metadata": {},
          "execution_count": 37
        },
        {
          "output_type": "display_data",
          "data": {
            "text/plain": [
              "<Figure size 432x288 with 1 Axes>"
            ],
            "image/png": "[encoded data removed]"
          },
          "metadata": {
            "needs_background": "light"
          }
        }
      ]
    },
    {
      "cell_type": "markdown",
      "source": [
        "# Object oriented models\n",
        "\n",
        "The models one need to create will usually be very long. In those cases, to train we will have to write each layer in the training loop which can be confusing at high layer numbers.\n",
        "\n",
        " Lets repeat the same model as before with obtect oriented programmig."
      ],
      "metadata": {
        "id": "TMwXXcMC7beW"
      }
    },
    {
      "cell_type": "code",
      "source": [
        "class Network(torch.nn.Module):\n",
        "  def __init__(self, input_dim, output_dim): # In this part we should build all the layers\n",
        "    super(Network,self).__init__()\n",
        "    self.model = torch.nn.Linear(input_dim, output_dim, dtype=float)\n",
        "  def forward(self, data): # in this part the layers should be called\n",
        "    out = self.model(data)\n",
        "    return out\n",
        "\n",
        "### Note that in this case the object oriented code takes more time, but for big networks helps a lot\n",
        "\n",
        "\n",
        "### Running the model\n",
        "\n",
        "input_dim = 1\n",
        "output_dim = 1\n",
        "learning_rate = 0.01\n",
        "\n",
        "model = Network(input_dim, output_dim)\n",
        "loss = torch.nn.MSELoss()\n",
        "optimizer = torch.optim.SGD(model.parameters(), lr = learning_rate)\n",
        "\n",
        "\n",
        "\n",
        "### Training the model ###\n",
        "\n",
        "n_epochs = 1000\n",
        "\n",
        "for epoch in range(n_epochs):\n",
        "  for i, (feat, label) in enumerate(dataloader):\n",
        "    y_predicted = model(feat)\n",
        "    J = loss(y_predicted, label)\n",
        "    J.backward()\n",
        "    optimizer.step()\n",
        "    optimizer.zero_grad()\n",
        "w, b = model.parameters()\n",
        "\n",
        "print(w,b)\n",
        "\n",
        "\n",
        "#### Print the model ###\n",
        "x_model = np.linspace(0,10,100)\n",
        "y_model = w.item() * x_model\n",
        "plt.scatter(x,y)\n",
        "plt.plot(x_model,y_model, color = 'red')"
      ],
      "metadata": {
        "colab": {
          "base_uri": "https://localhost:8080/",
          "height": 334
        },
        "id": "48E-21bF6-hF",
        "outputId": "db94e7f2-837a-491b-ca49-0143f4b22aa2"
      },
      "execution_count": 40,
      "outputs": [
        {
          "output_type": "stream",
          "name": "stdout",
          "text": [
            "Parameter containing:\n",
            "tensor([[2.0074]], dtype=torch.float64, requires_grad=True) Parameter containing:\n",
            "tensor([-0.0210], dtype=torch.float64, requires_grad=True)\n"
          ]
        },
        {
          "output_type": "execute_result",
          "data": {
            "text/plain": [
              "[<matplotlib.lines.Line2D at 0x7f998bcbed00>]"
            ]
          },
          "metadata": {},
          "execution_count": 40
        },
        {
          "output_type": "display_data",
          "data": {
            "text/plain": [
              "<Figure size 432x288 with 1 Axes>"
            ],
            "image/png": "[encoded data removed]"
          },
          "metadata": {
            "needs_background": "light"
          }
        }
      ]
    },
    {
      "cell_type": "code",
      "source": [],
      "metadata": {
        "id": "lPUb8oHUAidu"
      },
      "execution_count": null,
      "outputs": []
    }
  ]
}