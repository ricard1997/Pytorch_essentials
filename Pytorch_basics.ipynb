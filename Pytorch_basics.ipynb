{
  "cells": [
    {
      "cell_type": "code",
      "execution_count": null,
      "metadata": {
        "colab": {
          "base_uri": "https://localhost:8080/",
          "height": 35
        },
        "id": "ot5SaymiaO0J",
        "outputId": "0f7cd0e1-d2b8-4e8e-c9ae-5fe361efa47c"
      },
      "outputs": [
        {
          "output_type": "execute_result",
          "data": {
            "text/plain": [
              "'1.13.1+cu116'"
            ],
            "application/vnd.google.colaboratory.intrinsic+json": {
              "type": "string"
            }
          },
          "metadata": {},
          "execution_count": 140
        }
      ],
      "source": [
        "import torch\n",
        "torch.__version__\n",
        "\n"
      ]
    },
    {
      "cell_type": "markdown",
      "metadata": {
        "id": "aZRmUT9vcCz2"
      },
      "source": [
        "# Pytorch basics\n",
        "\n",
        "This notebook intends to cover the basic aspects of Pytorch to build a first perceptron model."
      ]
    },
    {
      "cell_type": "code",
      "execution_count": null,
      "metadata": {
        "id": "A1nTVB6hcpee"
      },
      "outputs": [],
      "source": []
    },
    {
      "cell_type": "markdown",
      "metadata": {
        "id": "poertMcRcrFj"
      },
      "source": [
        "## Import Pytorch\n",
        "\n",
        "If running with google colab, google colab has a version of Pytorch already installed. This version can be invoked as follows:"
      ]
    },
    {
      "cell_type": "code",
      "execution_count": null,
      "metadata": {
        "id": "9CpHZTUlc9ON"
      },
      "outputs": [],
      "source": [
        "import torch as torch"
      ]
    },
    {
      "cell_type": "markdown",
      "metadata": {
        "id": "Db1IPTKncXQa"
      },
      "source": [
        "## Tensors\n",
        "\n",
        "Pytorch fully work with tensors which are a generalization of vectors and matrixes. A tensor can be invoked as follows:\n"
      ]
    },
    {
      "cell_type": "code",
      "execution_count": null,
      "metadata": {
        "colab": {
          "base_uri": "https://localhost:8080/"
        },
        "id": "VH1KDjQ4au2o",
        "outputId": "db5c3135-22a3-4648-e063-6e0e8a10fad6"
      },
      "outputs": [
        {
          "output_type": "stream",
          "name": "stdout",
          "text": [
            "tensor([[[3.8115e-43, 0.0000e+00, 0.0000e+00],\n",
            "         [0.0000e+00, 9.1478e-41, 0.0000e+00],\n",
            "         [4.2039e-45, 0.0000e+00, 0.0000e+00]],\n",
            "\n",
            "        [[0.0000e+00, 1.1351e-43, 0.0000e+00],\n",
            "         [4.5414e-33, 0.0000e+00, 3.8575e-33],\n",
            "         [0.0000e+00, 2.3720e-33, 0.0000e+00]],\n",
            "\n",
            "        [[1.3696e-25, 4.5818e-41, 4.4842e-44],\n",
            "         [0.0000e+00, 1.5695e-43, 0.0000e+00],\n",
            "         [0.0000e+00, 0.0000e+00, 4.4249e-33]]])\n",
            "torch.Size([3, 3, 3])\n"
          ]
        }
      ],
      "source": [
        "# Tensor of dimension 3x3x3\n",
        "tensor = torch.empty(3,3,3)\n",
        "print(tensor)\n",
        "print(tensor.size())"
      ]
    },
    {
      "cell_type": "code",
      "execution_count": null,
      "metadata": {
        "colab": {
          "base_uri": "https://localhost:8080/"
        },
        "id": "r7D_Ka7Gdeit",
        "outputId": "8e96879a-209b-45e2-f661-a9b82948079c"
      },
      "outputs": [
        {
          "output_type": "stream",
          "name": "stdout",
          "text": [
            "tensor([[[0.5000, 0.5000, 0.5000],\n",
            "         [0.5000, 0.5000, 0.5000],\n",
            "         [0.5000, 0.5000, 0.5000]],\n",
            "\n",
            "        [[0.5000, 0.5000, 0.5000],\n",
            "         [0.5000, 0.5000, 0.5000],\n",
            "         [0.5000, 0.5000, 0.5000]],\n",
            "\n",
            "        [[0.5000, 0.5000, 0.5000],\n",
            "         [0.5000, 0.5000, 0.5000],\n",
            "         [0.5000, 0.5000, 0.5000]]])\n"
          ]
        }
      ],
      "source": [
        "# Tensors have algebraic operations\n",
        "\n",
        "x = torch.ones(3,3,3)\n",
        "y = 2 * torch.ones(3,3,3)\n",
        "\n",
        "print(x/y)\n",
        "\n",
        "# Note that the operations are element by element\n"
      ]
    },
    {
      "cell_type": "markdown",
      "metadata": {
        "id": "vLNAFU0xebUt"
      },
      "source": [
        "In general, the tensors work in a very similar way as numpy arrays. Indeed, numpy arrays can be converted into tensors as follows:"
      ]
    },
    {
      "cell_type": "code",
      "execution_count": null,
      "metadata": {
        "colab": {
          "base_uri": "https://localhost:8080/"
        },
        "id": "Xq943JfngWT9",
        "outputId": "5e83f0a4-20e8-445d-e909-a3e47bcb135b"
      },
      "outputs": [
        {
          "output_type": "stream",
          "name": "stdout",
          "text": [
            "[[2 8 5]\n",
            " [8 3 1]\n",
            " [0 5 2]]\n",
            "tensor([[2, 8, 5],\n",
            "        [8, 3, 1],\n",
            "        [0, 5, 2]])\n"
          ]
        }
      ],
      "source": [
        "import numpy as np\n",
        "\n",
        "x = np.random.randint(10, size = (3,3))\n",
        "print(x)\n",
        "y = torch.from_numpy(x)\n",
        "print(y)"
      ]
    },
    {
      "cell_type": "markdown",
      "metadata": {
        "id": "A3exSLR9exJw"
      },
      "source": [
        "### Useful tensor transformation\n",
        "\n",
        "Usually, the data that comes in $n\\times m$ shape, but to feed our models (neurons) we probably need to reshape in $1\\times nm$. A useful command to do this is:\n",
        " "
      ]
    },
    {
      "cell_type": "code",
      "execution_count": null,
      "metadata": {
        "colab": {
          "base_uri": "https://localhost:8080/"
        },
        "id": "v0Kpvk2nd6RC",
        "outputId": "48a28dde-9f90-4bf3-925d-e5893d4cb55c"
      },
      "outputs": [
        {
          "output_type": "stream",
          "name": "stdout",
          "text": [
            "tensor([[0.5448, 0.6031, 0.3020, 0.5482, 0.8872, 0.0957, 0.1448, 0.6719, 0.8035,\n",
            "         0.4777, 0.3525, 0.5564],\n",
            "        [0.4427, 0.6906, 0.2575, 0.5652, 0.8993, 0.7425, 0.5677, 0.7277, 0.6765,\n",
            "         0.0301, 0.1968, 0.4787],\n",
            "        [0.5882, 0.2999, 0.9371, 0.8860, 0.0375, 0.1262, 0.4942, 0.4601, 0.6908,\n",
            "         0.5594, 0.8269, 0.7003],\n",
            "        [0.5590, 0.5660, 0.5618, 0.1610, 0.7417, 0.2881, 0.5184, 0.2753, 0.5199,\n",
            "         0.8744, 0.0283, 0.8493],\n",
            "        [0.0015, 0.5077, 0.4037, 0.9802, 0.1217, 0.2562, 0.1507, 0.5397, 0.3177,\n",
            "         0.6321, 0.5150, 0.7760],\n",
            "        [0.1834, 0.8594, 0.0547, 0.0590, 0.7094, 0.1890, 0.0107, 0.4124, 0.9742,\n",
            "         0.2483, 0.5601, 0.1027],\n",
            "        [0.1035, 0.8992, 0.8328, 0.7140, 0.4063, 0.1062, 0.2218, 0.8107, 0.4232,\n",
            "         0.4338, 0.2116, 0.2870],\n",
            "        [0.4230, 0.8096, 0.1467, 0.0510, 0.2279, 0.6393, 0.6216, 0.0543, 0.9357,\n",
            "         0.7315, 0.2514, 0.4108],\n",
            "        [0.5891, 0.7003, 0.0814, 0.5821, 0.9798, 0.7470, 0.0962, 0.3272, 0.7928,\n",
            "         0.2946, 0.2483, 0.4689],\n",
            "        [0.3199, 0.8180, 0.1186, 0.6036, 0.1149, 0.1825, 0.2191, 0.6159, 0.3289,\n",
            "         0.3644, 0.5835, 0.2722]])\n",
            "tensor([0.5448, 0.6031, 0.3020, 0.5482, 0.8872, 0.0957, 0.1448, 0.6719, 0.8035,\n",
            "        0.4777, 0.3525, 0.5564, 0.4427, 0.6906, 0.2575, 0.5652, 0.8993, 0.7425,\n",
            "        0.5677, 0.7277, 0.6765, 0.0301, 0.1968, 0.4787, 0.5882, 0.2999, 0.9371,\n",
            "        0.8860, 0.0375, 0.1262, 0.4942, 0.4601, 0.6908, 0.5594, 0.8269, 0.7003,\n",
            "        0.5590, 0.5660, 0.5618, 0.1610, 0.7417, 0.2881, 0.5184, 0.2753, 0.5199,\n",
            "        0.8744, 0.0283, 0.8493, 0.0015, 0.5077, 0.4037, 0.9802, 0.1217, 0.2562,\n",
            "        0.1507, 0.5397, 0.3177, 0.6321, 0.5150, 0.7760, 0.1834, 0.8594, 0.0547,\n",
            "        0.0590, 0.7094, 0.1890, 0.0107, 0.4124, 0.9742, 0.2483, 0.5601, 0.1027,\n",
            "        0.1035, 0.8992, 0.8328, 0.7140, 0.4063, 0.1062, 0.2218, 0.8107, 0.4232,\n",
            "        0.4338, 0.2116, 0.2870, 0.4230, 0.8096, 0.1467, 0.0510, 0.2279, 0.6393,\n",
            "        0.6216, 0.0543, 0.9357, 0.7315, 0.2514, 0.4108, 0.5891, 0.7003, 0.0814,\n",
            "        0.5821, 0.9798, 0.7470, 0.0962, 0.3272, 0.7928, 0.2946, 0.2483, 0.4689,\n",
            "        0.3199, 0.8180, 0.1186, 0.6036, 0.1149, 0.1825, 0.2191, 0.6159, 0.3289,\n",
            "        0.3644, 0.5835, 0.2722])\n",
            "torch.Size([120])\n"
          ]
        }
      ],
      "source": [
        "# generating a tensor 10X12 with random initial values\n",
        "\n",
        "x = torch.rand(10,12)\n",
        "print(x)\n",
        "\n",
        "# reshaping to 1x120\n",
        "x = x.view(-1)\n",
        "print(x)\n",
        "print(x.size())\n"
      ]
    },
    {
      "cell_type": "code",
      "execution_count": null,
      "metadata": {
        "id": "0UUYFcJUfsA6"
      },
      "outputs": [],
      "source": []
    },
    {
      "cell_type": "markdown",
      "metadata": {
        "id": "ijgiu_N4hdAS"
      },
      "source": [
        "## GPU\n",
        "\n",
        "An advantage of working with Pytorch is that we can use gpu thanks to integrated libraries. This is simply done as follows."
      ]
    },
    {
      "cell_type": "code",
      "execution_count": null,
      "metadata": {
        "colab": {
          "base_uri": "https://localhost:8080/"
        },
        "id": "RXv4iZ26hoJG",
        "outputId": "06308499-dd62-48bf-b8a6-dbd47ce5b3a3"
      },
      "outputs": [
        {
          "output_type": "stream",
          "name": "stdout",
          "text": [
            "no\n"
          ]
        }
      ],
      "source": [
        "from math import e\n",
        "# First test if the gpus are available\n",
        "if torch.cuda.is_available():\n",
        "  print('yes')\n",
        "else:\n",
        "  print('no')"
      ]
    },
    {
      "cell_type": "code",
      "execution_count": null,
      "metadata": {
        "colab": {
          "base_uri": "https://localhost:8080/"
        },
        "id": "Jtdv8DGzhr1e",
        "outputId": "f4ac43af-4faf-4cae-e884-527839a6a7bd"
      },
      "outputs": [
        {
          "output_type": "stream",
          "name": "stdout",
          "text": [
            "0\n"
          ]
        }
      ],
      "source": [
        "print(torch.cuda.device_count())"
      ]
    },
    {
      "cell_type": "markdown",
      "metadata": {
        "id": "_4n611SFv6K6"
      },
      "source": [
        "## Gradients and backpropagation\n",
        "\n",
        "Whe building a model, to optimize the loss function, it is necessary the computation of gradients. Pytorch has a libraary that allor for the computation of gradients easily. These package include backpropagation, that allows to accelerate the computation of gradients by using chain rule and memory storage of previous computations.\n",
        "\n",
        "As an example, we will compute the gradient of $h(x) = g(f(x))$ with $f(x) = sin(x)$ and $g(x) = x^2$. We already know that the derivative would be $h'(x) = g'(f(x))f'(x) = 2sin(x)cos(x)$ which evaluated in 0.5 is $h'(0.5) \\approx 0.84$ "
      ]
    },
    {
      "cell_type": "code",
      "execution_count": null,
      "metadata": {
        "colab": {
          "base_uri": "https://localhost:8080/"
        },
        "id": "fF8C5ZVqxZ9l",
        "outputId": "3f727608-d4df-4d1b-dfd3-15dba92335bf"
      },
      "outputs": [
        {
          "output_type": "stream",
          "name": "stdout",
          "text": [
            "tensor(0.8415)\n"
          ]
        }
      ],
      "source": [
        "# Set the variable \n",
        "\n",
        "x = torch.tensor(0.5, requires_grad=True) # Requires grad is necessary to compute with this variable\n",
        "f = torch.sin(x)\n",
        "h = f*f\n",
        "h.backward() # This command push the code to perform the backward propagation, thus computing the grading and storing it on x.grad\n",
        "\n",
        "# The gradient as expected is:\n",
        "print(x.grad)\n",
        "# Note that the derivative computed is dh/dx which is stored on x.grad\n"
      ]
    },
    {
      "cell_type": "markdown",
      "metadata": {
        "id": "_TE09XqxlM7l"
      },
      "source": [
        "## Trying regression and perceptron\n",
        "\n",
        "One of the simplest models to work with neural networks is a linear regression. For this reason, we will work the linear regression in different flavors. \n",
        "\n",
        "- First, we will try a regression computed from mathematical aspects that come from minimizing the cost function. \n",
        "\n",
        "- Then, we will compute the linear regression with our own optimization algorithm\n",
        "\n",
        "- Then we will include the pytorch functionality to compute gradients \n",
        "\n",
        "- Finally, we will implement a full algorithm to compute linear regression using pytorch funtionalities. This is called perceptron.\n"
      ]
    },
    {
      "cell_type": "code",
      "execution_count": null,
      "metadata": {
        "colab": {
          "base_uri": "https://localhost:8080/",
          "height": 282
        },
        "id": "7HLm824nyN2f",
        "outputId": "1748c3cb-1eb8-4f7a-ddb4-54e68013cd24"
      },
      "outputs": [
        {
          "output_type": "execute_result",
          "data": {
            "text/plain": [
              "<matplotlib.collections.PathCollection at 0x7fb84aba4640>"
            ]
          },
          "metadata": {},
          "execution_count": 166
        },
        {
          "output_type": "display_data",
          "data": {
            "text/plain": [
              "<Figure size 432x288 with 1 Axes>"
            ],
            "image/png": "[encoded data removed]"
          },
          "metadata": {
            "needs_background": "light"
          }
        }
      ],
      "source": [
        "# Generating linear data\n",
        "\n",
        "# For the models we are going to train we need data. Here we generate noisy random linear data with a slope of 2\n",
        "import numpy as np\n",
        "import matplotlib.pyplot as plt\n",
        "\n",
        "x = np.linspace(0,10,500)\n",
        "y = x * 0\n",
        "for i in range(len(x)):\n",
        "  rand = np.random.rand()\n",
        "  rand = rand - .5\n",
        "  y[i] = 2*x[i] + rand\n",
        "plt.scatter(x,y)\n"
      ]
    },
    {
      "cell_type": "markdown",
      "source": [
        "### Mathematical linear regresion\n",
        "\n",
        "This method is bases on the theretical optimization of the loss function which gives $w = (x^Tx)^{-1}x^Ty$"
      ],
      "metadata": {
        "id": "BW-JbaVvKK7N"
      }
    },
    {
      "cell_type": "code",
      "execution_count": null,
      "metadata": {
        "colab": {
          "base_uri": "https://localhost:8080/",
          "height": 300
        },
        "id": "z5riGy-3l4jg",
        "outputId": "65816008-2ca1-4aeb-f66f-0420ba1828a8"
      },
      "outputs": [
        {
          "output_type": "stream",
          "name": "stdout",
          "text": [
            "2.0036343693680814\n"
          ]
        },
        {
          "output_type": "execute_result",
          "data": {
            "text/plain": [
              "[<matplotlib.lines.Line2D at 0x7fb84ab08610>]"
            ]
          },
          "metadata": {},
          "execution_count": 167
        },
        {
          "output_type": "display_data",
          "data": {
            "text/plain": [
              "<Figure size 432x288 with 1 Axes>"
            ],
            "image/png": "[encoded data removed]"
          },
          "metadata": {
            "needs_background": "light"
          }
        }
      ],
      "source": [
        "# Matematical linear regression gotten with w = (x.T x)^(-1)x.T y\n",
        "\n",
        "inverse = 1/np.matmul(x.T, x)\n",
        "xy = np.matmul(x.T, y)\n",
        "w = inverse * xy\n",
        "print(w)\n",
        "\n",
        "x_model = np.linspace(0,10,100)\n",
        "y_model = w * x_model\n",
        "\n",
        "plt.scatter(x,y)\n",
        "plt.plot(x_model,y_model, color = 'red')"
      ]
    },
    {
      "cell_type": "markdown",
      "source": [
        "### Gradient minimization\n",
        "\n",
        "For this linear regresion we will minimize the gradient function from scratch, going in the opposite direction of the gradient."
      ],
      "metadata": {
        "id": "kxv6Drv0KlXx"
      }
    },
    {
      "cell_type": "code",
      "execution_count": null,
      "metadata": {
        "colab": {
          "base_uri": "https://localhost:8080/",
          "height": 456
        },
        "id": "avX8X2QOjl-x",
        "outputId": "d0230fb7-7d72-4352-d2b8-187a1500451f"
      },
      "outputs": [
        {
          "output_type": "stream",
          "name": "stdout",
          "text": [
            "1.3370946793578578 0.2680655936522099\n",
            "1.7818997229919347 0.029808729776034305\n",
            "1.9298709399122889 0.0034417427319184345\n",
            "1.979095833717457 0.0005238078843167922\n",
            "1.9954712492919215 0.00020089105803693374\n",
            "2.0009187823287173 0.000165155072779976\n",
            "2.0027309877076918 0.0001612003062941357\n",
            "2.003333845609314 0.00016076264722736966\n",
            "2.0035343955324993 0.00016071421315182855\n",
            "2.0036011115390098 0.00016070885313566153\n"
          ]
        },
        {
          "output_type": "execute_result",
          "data": {
            "text/plain": [
              "[<matplotlib.lines.Line2D at 0x7fb84aaf01c0>]"
            ]
          },
          "metadata": {},
          "execution_count": 168
        },
        {
          "output_type": "display_data",
          "data": {
            "text/plain": [
              "<Figure size 432x288 with 1 Axes>"
            ],
            "image/png": "[encoded data removed]"
          },
          "metadata": {
            "needs_background": "light"
          }
        }
      ],
      "source": [
        "# Regression step by step, using the same data as before\n",
        "# In this case we will minimize the gradiend with gradiend descent\n",
        "\n",
        "w = 0.0 # initial value for w\n",
        "N = len(x)\n",
        "# model prediction\n",
        "\n",
        "def forward(w,x):\n",
        "  return w*x\n",
        "\n",
        "# loss function MSE = (1/N)(wx-y)**2\n",
        "# loss\n",
        "def loss(y,y_predicted):\n",
        "  return ((y_predicted-y)**2).mean()\n",
        "\n",
        "\n",
        "# gardient(derivative of loss) DJ/Dw = (2x/N)(wx-y)\n",
        "#gradient\n",
        "def gradient(x,y,y_predicted):\n",
        "  return np.dot(2*x,y_predicted-y).mean()\n",
        "n=10\n",
        "learning = 0.01\n",
        "for i in range(n):\n",
        "  y_predicted = forward(w,x)\n",
        "  J = loss(y,y_predicted)/N\n",
        "  dw = gradient(x,y,y_predicted)/N\n",
        "  w -= dw* learning\n",
        "  print(w, J)\n",
        "\n",
        "x_model = np.linspace(0,10,100)\n",
        "y_model = w * x_model\n",
        "plt.scatter(x,y)\n",
        "plt.plot(x_model,y_model, color = 'red')"
      ]
    },
    {
      "cell_type": "markdown",
      "metadata": {
        "id": "Rl3Zlyh6hGSL"
      },
      "source": [
        "### Gradient with pytorch\n",
        "\n",
        "In this part we will perform the same calculations as the last one but using the gradient computed from pytorch."
      ]
    },
    {
      "cell_type": "code",
      "execution_count": null,
      "metadata": {
        "colab": {
          "base_uri": "https://localhost:8080/",
          "height": 300
        },
        "id": "RQxmoEDxhG9W",
        "outputId": "68e9df89-45be-4fe7-bc78-db535d012cf9"
      },
      "outputs": [
        {
          "output_type": "stream",
          "name": "stdout",
          "text": [
            "tensor(2.0036, requires_grad=True)\n"
          ]
        },
        {
          "output_type": "execute_result",
          "data": {
            "text/plain": [
              "[<matplotlib.lines.Line2D at 0x7fb84a835cd0>]"
            ]
          },
          "metadata": {},
          "execution_count": 176
        },
        {
          "output_type": "display_data",
          "data": {
            "text/plain": [
              "<Figure size 432x288 with 1 Axes>"
            ],
            "image/png": "[encoded data removed]"
          },
          "metadata": {
            "needs_background": "light"
          }
        }
      ],
      "source": [
        " # Regresion using pytorch\n",
        "#print(x.T)\n",
        "X_temp = np.array([x])\n",
        "X_temp = X_temp.T\n",
        "X = torch.tensor(X_temp, dtype = torch.float32)\n",
        "n_samples, n_features = X.shape\n",
        "#print(n_samples, n_features)\n",
        "Y_temp = np.array([y])\n",
        "Y_temp = Y_temp.T\n",
        "Y = torch.tensor(Y_temp, dtype = torch.float32) # It works with the features and labels ordered in columns\n",
        "\n",
        "\n",
        "w = torch.tensor(0.0, dtype = torch.float32, requires_grad = True)\n",
        "\n",
        "def loss(y,y_predicted):\n",
        "  return ((y_predicted-y)**2).mean()/N\n",
        "\n",
        "learning_rate = 0.01 # set a learning rate\n",
        "loss = torch.nn.MSELoss() # Set the loss function to use\n",
        "#optimizer = torch.optim.SGD(w, lr=learning_rate) # Set the optimizer\n",
        "n=100\n",
        "for i in range(n):\n",
        "  y_pred = X * w # implement the linear model\n",
        "  l = loss(Y,y_pred) # ipmlement the lost function\n",
        "  l.backward() # compute the gradient of l\n",
        "  #print(w.grad)\n",
        "  with torch.no_grad():\n",
        "    w -= learning_rate * w.grad # update the weights\n",
        "  w.grad.zero_()\n",
        "print(w)\n",
        "\n",
        "#### Print the model ###\n",
        "x_model = np.linspace(0,10,100)\n",
        "y_model = w.item() * x_model\n",
        "plt.scatter(x,y)\n",
        "plt.plot(x_model,y_model, color = 'red')"
      ]
    },
    {
      "cell_type": "markdown",
      "source": [
        "### Full model with pytorch\n",
        "\n",
        "Finally, our model can be computed completelly done with pytorch. Note that in this case, there is a pipeline to follow:\n",
        "\n",
        "- Set the features vectors to the shape $n \\times 1$ (This shape is needed by pytorch)\n",
        "- Set the label vectors to the shape $n \\times 1$\n",
        "- Choose a model. In this case we choose the Linear model\n",
        "- Choose the loss function. This function is built in pytorch and we choose MSEloss\n",
        "- Choose the optimization method. In this case we choose SDG (Stochastic Descent Gradient) \n",
        "\n",
        "The latter part is the set up part. The, to run the model we should do the following in a loop:\n",
        "\n",
        "- Compute the values predicted by the model using the initial features \n",
        "- Compute the loss function\n",
        "- Compute the gradient\n",
        "- Update the parameters of the model\n",
        "\n",
        "With this, the final parameters give the model."
      ],
      "metadata": {
        "id": "6VkrX0LHLEIl"
      }
    },
    {
      "cell_type": "code",
      "execution_count": null,
      "metadata": {
        "colab": {
          "base_uri": "https://localhost:8080/",
          "height": 282
        },
        "id": "kJqofrWAPW6B",
        "outputId": "3ee836dc-8b5e-442b-820d-f34bb8ee17d4"
      },
      "outputs": [
        {
          "output_type": "execute_result",
          "data": {
            "text/plain": [
              "[<matplotlib.lines.Line2D at 0x7fb84a9a62e0>]"
            ]
          },
          "metadata": {},
          "execution_count": 171
        },
        {
          "output_type": "display_data",
          "data": {
            "text/plain": [
              "<Figure size 432x288 with 1 Axes>"
            ],
            "image/png": "[encoded data removed]"
          },
          "metadata": {
            "needs_background": "light"
          }
        }
      ],
      "source": [
        " # Regresion using pytorch\n",
        "#print(x.T)\n",
        "#X = torch.from_numpy(x)\n",
        "X_temp = np.array([x])\n",
        "X_temp = X_temp.T\n",
        "X = torch.tensor(X_temp, dtype = torch.float32)\n",
        "#print(X.reshape(-1,1))\n",
        "#X = X.reshape(-1,1)\n",
        "n_samples, n_features = X.shape\n",
        "#print(n_samples, n_features)\n",
        "\n",
        "Y_temp = np.array([y])\n",
        "Y_temp = Y_temp.T\n",
        "Y = torch.tensor(Y_temp, dtype = torch.float32) # It works with the features and labels ordered in columns\n",
        "\n",
        "input_size = n_features # How many features the system has (neurons)\n",
        "output_size = n_features #\n",
        "\n",
        "model = torch.nn.Linear(input_size, output_size) # Choose the model we wanna train, in this case linear\n",
        "\n",
        "\n",
        "\n",
        "learning_rate = 0.01 # set a learning rate\n",
        "loss = torch.nn.MSELoss() # Set the loss function to use\n",
        "optimizer = torch.optim.SGD(model.parameters(), lr=learning_rate) # Set the optimizer\n",
        "n=1000\n",
        "for i in range(n):\n",
        "  y_pred = model(X) # implement the linear model\n",
        "  l = loss(Y,y_pred) # ipmlement the lost function\n",
        "  l.backward() # compute the gradient of l\n",
        "  optimizer.step() # update the weights\n",
        "  optimizer.zero_grad() # delete the residual values in the gradient\n",
        "  [w, b] = model.parameters() # recover the parameters of the model\n",
        "#print(i, w[0][0].item()) # print the parameters\n",
        "\n",
        "#### Print the model ###\n",
        "x_model = np.linspace(0,10,100)\n",
        "y_model = w[0][0].item() * x_model\n",
        "plt.scatter(x,y)\n",
        "plt.plot(x_model,y_model, color = 'red')"
      ]
    },
    {
      "cell_type": "code",
      "execution_count": null,
      "metadata": {
        "id": "oCVD4rGsX_p3"
      },
      "outputs": [],
      "source": []
    },
    {
      "cell_type": "markdown",
      "metadata": {
        "id": "7WrBP25460Ub"
      },
      "source": [
        "## Multilinear regression\n",
        "\n",
        "When working wiht data, it contains usually more than one feature (Linear regression). Here I generate data in 3D and plot it. Then, generate a model for the corresponding data. Note that the procedure is the same as described before.\n",
        "\n",
        "\n"
      ]
    },
    {
      "cell_type": "code",
      "execution_count": null,
      "metadata": {
        "colab": {
          "base_uri": "https://localhost:8080/",
          "height": 276
        },
        "id": "VmAA9xLq7Oe0",
        "outputId": "0abb1735-d5ba-403b-ab04-6129d13a37f1"
      },
      "outputs": [
        {
          "output_type": "execute_result",
          "data": {
            "text/plain": [
              "<mpl_toolkits.mplot3d.art3d.Path3DCollection at 0x7fb84afbe430>"
            ]
          },
          "metadata": {},
          "execution_count": 162
        },
        {
          "output_type": "display_data",
          "data": {
            "text/plain": [
              "<Figure size 432x288 with 1 Axes>"
            ],
            "image/png": "[encoded data removed]"
          },
          "metadata": {
            "needs_background": "light"
          }
        }
      ],
      "source": [
        "# Generationg data\n",
        "\n",
        "\n",
        "x = np.linspace(0,1,1000)\n",
        "y = x * 0\n",
        "z = x * 0\n",
        "for i in range(len(x)):\n",
        "  rand = np.random.rand()\n",
        "  rand = rand - .5\n",
        "  y[i] = 2*x[i] + rand\n",
        "\n",
        "for i in range(len(x)):\n",
        "  rand = np.random.rand()\n",
        "  rand = rand - .5\n",
        "  z[i] = 3*x[i] + rand\n",
        "\n",
        "fig = plt.figure()\n",
        "ax = plt.axes(projection ='3d')\n",
        "ax.scatter(x, y, z, color = 'green')\n",
        "\n"
      ]
    },
    {
      "cell_type": "code",
      "execution_count": null,
      "metadata": {
        "id": "6qYBsD-97qK9",
        "colab": {
          "base_uri": "https://localhost:8080/"
        },
        "outputId": "135d6434-fa86-4f34-c801-6897fc3d2a20"
      },
      "outputs": [
        {
          "output_type": "stream",
          "name": "stdout",
          "text": [
            "Parameter containing:\n",
            "tensor([[0.7839, 0.3507]], requires_grad=True) Parameter containing:\n",
            "tensor([0.0830], requires_grad=True)\n"
          ]
        }
      ],
      "source": [
        "\n",
        " # The first step will be generating the structured data\n",
        "# Remember that the data is now in two vectors of lenght n, we need a tensor of dim nx2\n",
        "data = np.array([x,z])\n",
        "data = data.T\n",
        "\n",
        "# Creating the tensor nx2\n",
        "features = torch.tensor(data,dtype = torch.float32)\n",
        "\n",
        "# Creating the labels nX1\n",
        "labels_n = np.array([y])\n",
        "labels_n = labels_n.T\n",
        "labels = torch.tensor(labels_n, dtype=torch.float32)\n",
        "\n",
        "n_features = features.shape[1]\n",
        "n_labels = labels.shape[1]\n",
        "\n",
        "# Setting the number of input and output neurons\n",
        "input_size = n_features\n",
        "output_size = n_labels\n",
        "\n",
        "# Select the model to be trained in the neuron\n",
        "model = torch.nn.Linear(input_size, output_size)\n",
        "\n",
        "\n",
        "learning_rate = 0.001 # set a learning rate\n",
        "loss = torch.nn.MSELoss() # Set the loss function to use\n",
        "optimizer = torch.optim.SGD(model.parameters(), lr=learning_rate) # Set the optimizer\n",
        "\n",
        "n_iter = 10000\n",
        "\n",
        "\n",
        "for i in range(n_iter):\n",
        "  y_pred = model(features)\n",
        "  l = loss(labels, y_pred)\n",
        "  l.backward()\n",
        "  optimizer.step() # update the weights\n",
        "  optimizer.zero_grad() # delete the residual values in the gradient\n",
        "\n",
        "w , b = model.parameters() # recover the parameters of the model\n",
        "\n",
        "print(w, b)\n",
        "\n"
      ]
    },
    {
      "cell_type": "code",
      "execution_count": null,
      "metadata": {
        "id": "ngd-cRpRPOra",
        "colab": {
          "base_uri": "https://localhost:8080/",
          "height": 276
        },
        "outputId": "35086306-20b1-4961-f465-b7cd7f5903d9"
      },
      "outputs": [
        {
          "output_type": "execute_result",
          "data": {
            "text/plain": [
              "<mpl_toolkits.mplot3d.art3d.Path3DCollection at 0x7fb84b004f10>"
            ]
          },
          "metadata": {},
          "execution_count": 164
        },
        {
          "output_type": "display_data",
          "data": {
            "text/plain": [
              "<Figure size 432x288 with 1 Axes>"
            ],
            "image/png": "[encoded data removed]"
          },
          "metadata": {
            "needs_background": "light"
          }
        }
      ],
      "source": [
        "# printing the rsulting data\n",
        "\n",
        "x_model = x\n",
        "z_model = z\n",
        "y_model = w[0][0].item()*x_model + w[0][1].item()*z_model + b[0].item()\n",
        "\n",
        "fig = plt.figure()\n",
        " \n",
        "# syntax for 3-D projection\n",
        "ax = plt.axes(projection ='3d')\n",
        "\n",
        "ax.plot3D(x_model,y_model,z_model, color = 'red')\n",
        "ax.scatter(x,y,z)"
      ]
    },
    {
      "cell_type": "code",
      "source": [],
      "metadata": {
        "id": "B5QmXg7P3uMo"
      },
      "execution_count": null,
      "outputs": []
    }
  ],
  "metadata": {
    "colab": {
      "provenance": []
    },
    "kernelspec": {
      "display_name": "Python 3",
      "name": "python3"
    },
    "language_info": {
      "name": "python"
    }
  },
  "nbformat": 4,
  "nbformat_minor": 0
}